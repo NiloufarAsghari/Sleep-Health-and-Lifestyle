{
 "cells": [
  {
   "cell_type": "code",
   "execution_count": 1,
   "id": "112ae167",
   "metadata": {},
   "outputs": [],
   "source": [
    "import pandas as pd"
   ]
  },
  {
   "cell_type": "code",
   "execution_count": 2,
   "id": "0d7d1d69",
   "metadata": {},
   "outputs": [],
   "source": [
    "#Insert and Delete\n",
    "# Data Source Link: https://www.kaggle.com/datasets/uom190346a/sleep-health-and-lifestyle-dataset\n",
    "#load the data\n",
    "\n",
    "data = pd.read_csv('Sleep_health_and_lifestyle_dataset.csv')"
   ]
  },
  {
   "cell_type": "code",
   "execution_count": 3,
   "id": "e4030e5d",
   "metadata": {},
   "outputs": [
    {
     "data": {
      "text/plain": [
       "Person ID                      15\n",
       "Gender                       Male\n",
       "Age                            29\n",
       "Occupation                 Doctor\n",
       "Sleep Duration                6.0\n",
       "Quality of Sleep                6\n",
       "Physical Activity Level        30\n",
       "Stress Level                    8\n",
       "BMI Category               Normal\n",
       "Blood Pressure             120/80\n",
       "Heart Rate                     70\n",
       "Daily Steps                  8000\n",
       "Sleep Disorder                NaN\n",
       "Name: 14, dtype: object"
      ]
     },
     "execution_count": 3,
     "metadata": {},
     "output_type": "execute_result"
    }
   ],
   "source": [
    "#adding column\n",
    "\n",
    "#But before lets try see 14th row\n",
    "\n",
    "row14 = data.loc[14]\n",
    "row14"
   ]
  },
  {
   "cell_type": "code",
   "execution_count": 4,
   "id": "09ee967b",
   "metadata": {},
   "outputs": [
    {
     "data": {
      "text/plain": [
       "Person ID                                  6\n",
       "Gender                                  Male\n",
       "Age                                       28\n",
       "Occupation                 Software Engineer\n",
       "Sleep Duration                           5.9\n",
       "Quality of Sleep                           4\n",
       "Physical Activity Level                   30\n",
       "Stress Level                               8\n",
       "BMI Category                           Obese\n",
       "Blood Pressure                        140/90\n",
       "Heart Rate                                85\n",
       "Daily Steps                             3000\n",
       "Sleep Disorder                      Insomnia\n",
       "Name: 5, dtype: object"
      ]
     },
     "execution_count": 4,
     "metadata": {},
     "output_type": "execute_result"
    }
   ],
   "source": [
    "#Insomnia case\n",
    "#The last col is very important that will categorize\n",
    "row5 = data.loc[5]\n",
    "row5"
   ]
  },
  {
   "cell_type": "code",
   "execution_count": 5,
   "id": "e7c6924b",
   "metadata": {},
   "outputs": [
    {
     "name": "stdout",
     "output_type": "stream",
     "text": [
      "All Colums  Index(['Person ID', 'Gender', 'Age', 'Occupation', 'Sleep Duration',\n",
      "       'Quality of Sleep', 'Physical Activity Level', 'Stress Level',\n",
      "       'BMI Category', 'Blood Pressure', 'Heart Rate', 'Daily Steps',\n",
      "       'Sleep Disorder', 'Busy'],\n",
      "      dtype='object')\n"
     ]
    }
   ],
   "source": [
    "#Adding new columns\n",
    "\n",
    "#Use .insert to add a column, by this method\n",
    "# we have freedom to add a new column at any position\n",
    "# DataFrameName.insert(loc, column, value, allow_duplicates = False)\n",
    "#loc is location, column: name of the column\n",
    "\n",
    "#First lets see how many columns do we have\n",
    "\n",
    "len(data.columns)\n",
    "\n",
    "#Now insert a new column at the end of the columns\n",
    "data.insert(13, \"Busy\", \"Any\", allow_duplicates=False)\n",
    "\n",
    "print(\"All Colums \", data.columns)"
   ]
  },
  {
   "cell_type": "code",
   "execution_count": 6,
   "id": "d4a4ae37",
   "metadata": {},
   "outputs": [
    {
     "data": {
      "text/plain": [
       "Person ID                     112\n",
       "Gender                       Male\n",
       "Age                            37\n",
       "Occupation                 Lawyer\n",
       "Sleep Duration                7.4\n",
       "Quality of Sleep                8\n",
       "Physical Activity Level        60\n",
       "Stress Level                    5\n",
       "BMI Category               Normal\n",
       "Blood Pressure             130/85\n",
       "Heart Rate                     68\n",
       "Daily Steps                  8000\n",
       "Sleep Disorder                NaN\n",
       "Busy                          Any\n",
       "Name: 111, dtype: object"
      ]
     },
     "execution_count": 6,
     "metadata": {},
     "output_type": "execute_result"
    }
   ],
   "source": [
    "#Now lets test it with a row\n",
    "\n",
    "row111 = data.loc[111]\n",
    "row111"
   ]
  },
  {
   "cell_type": "code",
   "execution_count": 15,
   "id": "436351b3",
   "metadata": {},
   "outputs": [
    {
     "data": {
      "text/plain": [
       "Index(['Person ID', 'Gender', 'Age', 'Occupation', 'Sleep Duration',\n",
       "       'Quality of Sleep', 'Physical Activity Level', 'Stress Level',\n",
       "       'BMI Category', 'Blood Pressure', 'Heart Rate', 'Daily Steps',\n",
       "       'Sleep Disorder'],\n",
       "      dtype='object')"
      ]
     },
     "execution_count": 15,
     "metadata": {},
     "output_type": "execute_result"
    }
   ],
   "source": [
    "#Drop Columns\n",
    "\n",
    "# DataFrame.drop(labels=None, axis=0, index=None, columns=None, level=None, inplace=False, errors=’raise’)\n",
    "#axis = 0 'rows' and axis =1 for 'col'\n",
    "# if inplace = True, it will make changes in original data frame\n",
    "\n",
    "data.drop(\"Busy\", axis = 1, inplace =True)\n",
    "data.columns\n"
   ]
  },
  {
   "cell_type": "code",
   "execution_count": 16,
   "id": "5a56e91d",
   "metadata": {},
   "outputs": [
    {
     "data": {
      "text/plain": [
       "Person ID                      34\n",
       "Gender                       Male\n",
       "Age                            31\n",
       "Occupation                 Doctor\n",
       "Sleep Duration                6.1\n",
       "Quality of Sleep                6\n",
       "Physical Activity Level        30\n",
       "Stress Level                    8\n",
       "BMI Category               Normal\n",
       "Blood Pressure             125/80\n",
       "Heart Rate                     72\n",
       "Daily Steps                  5000\n",
       "Sleep Disorder                NaN\n",
       "Name: 33, dtype: object"
      ]
     },
     "execution_count": 16,
     "metadata": {},
     "output_type": "execute_result"
    }
   ],
   "source": [
    "#Lets check if the col 'Busy' not in the data anymore\n",
    "row33 = data.loc[33]\n",
    "row33"
   ]
  }
 ],
 "metadata": {
  "kernelspec": {
   "display_name": "Python 3 (ipykernel)",
   "language": "python",
   "name": "python3"
  },
  "language_info": {
   "codemirror_mode": {
    "name": "ipython",
    "version": 3
   },
   "file_extension": ".py",
   "mimetype": "text/x-python",
   "name": "python",
   "nbconvert_exporter": "python",
   "pygments_lexer": "ipython3",
   "version": "3.9.6"
  }
 },
 "nbformat": 4,
 "nbformat_minor": 5
}
